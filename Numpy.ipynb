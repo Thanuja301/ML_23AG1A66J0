{
  "nbformat": 4,
  "nbformat_minor": 0,
  "metadata": {
    "colab": {
      "provenance": [],
      "authorship_tag": "ABX9TyMy4yFYKVzHLiaB+/xPqV/s",
      "include_colab_link": true
    },
    "kernelspec": {
      "name": "python3",
      "display_name": "Python 3"
    },
    "language_info": {
      "name": "python"
    }
  },
  "cells": [
    {
      "cell_type": "markdown",
      "metadata": {
        "id": "view-in-github",
        "colab_type": "text"
      },
      "source": [
        "<a href=\"https://colab.research.google.com/github/Thanuja301/ML_23AG1A66J0/blob/main/Numpy.ipynb\" target=\"_parent\"><img src=\"https://colab.research.google.com/assets/colab-badge.svg\" alt=\"Open In Colab\"/></a>"
      ]
    },
    {
      "cell_type": "code",
      "execution_count": 1,
      "metadata": {
        "id": "MrLvbzRZLYcA"
      },
      "outputs": [],
      "source": [
        "import numpy as np"
      ]
    },
    {
      "cell_type": "code",
      "source": [
        "# create a list named list1\n",
        "list1 = [2, 4, 6, 8]\n",
        "\n",
        "# create numpy array using list1\n",
        "array1 = np.array(list1)\n",
        "\n",
        "print(array1)\n",
        ""
      ],
      "metadata": {
        "colab": {
          "base_uri": "https://localhost:8080/"
        },
        "id": "7CRQSVkCMKFC",
        "outputId": "a0ee7113-35e0-4b5a-a740-a4173da2a1fd"
      },
      "execution_count": 2,
      "outputs": [
        {
          "output_type": "stream",
          "name": "stdout",
          "text": [
            "[2 4 6 8]\n"
          ]
        }
      ]
    },
    {
      "cell_type": "code",
      "source": [
        "# create numpy array using a list\n",
        "array1 = np.array([2, 4, 6, 8])\n",
        "print(array1)\n",
        ""
      ],
      "metadata": {
        "colab": {
          "base_uri": "https://localhost:8080/"
        },
        "id": "CxBw7lWeMON0",
        "outputId": "53c7ece9-9f20-4c0d-8446-9b81c1c4cd50"
      },
      "execution_count": 3,
      "outputs": [
        {
          "output_type": "stream",
          "name": "stdout",
          "text": [
            "[2 4 6 8]\n"
          ]
        }
      ]
    },
    {
      "cell_type": "code",
      "source": [
        "# create a 2D array with 2 rows and 4 columns\n",
        "array1 = np.array([[1, 2, 3, 4],\n",
        "                  [5, 6, 7, 8]])\n",
        "\n",
        "print(array1)\n",
        ""
      ],
      "metadata": {
        "colab": {
          "base_uri": "https://localhost:8080/"
        },
        "id": "lHLOLFWbMbmU",
        "outputId": "91c21614-30cf-41ad-8ec6-f659150874ee"
      },
      "execution_count": 4,
      "outputs": [
        {
          "output_type": "stream",
          "name": "stdout",
          "text": [
            "[[1 2 3 4]\n",
            " [5 6 7 8]]\n"
          ]
        }
      ]
    },
    {
      "cell_type": "code",
      "source": [
        "array1 = np.array([[[1, 2, 3, 4],\n",
        "                [5, 6, 7, 8],\n",
        "                [9, 10, 11, 12]],\n",
        "\n",
        "                [[13, 14, 15, 16],\n",
        "                 [17, 18, 19, 20],\n",
        "                 [21, 22, 23, 24]]])\n",
        "\n",
        "print(array1)"
      ],
      "metadata": {
        "colab": {
          "base_uri": "https://localhost:8080/"
        },
        "id": "7axExtQPNK1O",
        "outputId": "695e5ace-6473-43df-8b69-5bc6113d1dd8"
      },
      "execution_count": 5,
      "outputs": [
        {
          "output_type": "stream",
          "name": "stdout",
          "text": [
            "[[[ 1  2  3  4]\n",
            "  [ 5  6  7  8]\n",
            "  [ 9 10 11 12]]\n",
            "\n",
            " [[13 14 15 16]\n",
            "  [17 18 19 20]\n",
            "  [21 22 23 24]]]\n"
          ]
        }
      ]
    },
    {
      "cell_type": "code",
      "source": [
        "# create an array of integers\n",
        "array1 = np.array([2, 4, 6])\n",
        "\n",
        "# check the data type of array1\n",
        "print(array1.dtype)\n",
        "\n"
      ],
      "metadata": {
        "colab": {
          "base_uri": "https://localhost:8080/"
        },
        "id": "80x75l4wNPvl",
        "outputId": "672d7fbd-5165-4c71-b192-33ed7215d78f"
      },
      "execution_count": 6,
      "outputs": [
        {
          "output_type": "stream",
          "name": "stdout",
          "text": [
            "int64\n"
          ]
        }
      ]
    },
    {
      "cell_type": "code",
      "source": [
        "print(array1.ndim)\n",
        ""
      ],
      "metadata": {
        "colab": {
          "base_uri": "https://localhost:8080/"
        },
        "id": "twUkE-CnNWQ1",
        "outputId": "ecc0c00b-9d5c-44c8-dc21-1069c63bf09d"
      },
      "execution_count": 7,
      "outputs": [
        {
          "output_type": "stream",
          "name": "stdout",
          "text": [
            "1\n"
          ]
        }
      ]
    },
    {
      "cell_type": "code",
      "source": [
        "print(array1.size)"
      ],
      "metadata": {
        "colab": {
          "base_uri": "https://localhost:8080/"
        },
        "id": "PnyUPvtFNdj1",
        "outputId": "6dfcb5e9-14fc-47c5-94ae-7f85d92eefcd"
      },
      "execution_count": 8,
      "outputs": [
        {
          "output_type": "stream",
          "name": "stdout",
          "text": [
            "3\n"
          ]
        }
      ]
    },
    {
      "cell_type": "code",
      "source": [
        "array1 = np.array([[1, 2, 3],\n",
        "                [6, 7, 8]])\n",
        "\n",
        "# return a tuple that gives size of array in each dimension\n",
        "print(array1.shape)\n",
        ""
      ],
      "metadata": {
        "colab": {
          "base_uri": "https://localhost:8080/"
        },
        "id": "YKGedHkUNg8t",
        "outputId": "602c5648-d3c2-4a93-95e5-00a2ed6cae1c"
      },
      "execution_count": 9,
      "outputs": [
        {
          "output_type": "stream",
          "name": "stdout",
          "text": [
            "(2, 3)\n"
          ]
        }
      ]
    },
    {
      "cell_type": "code",
      "source": [
        "# create a default 1-D array of integers\n",
        "array1 = np.array([6, 7, 8, 10, 13])\n",
        "\n",
        "# create a 1-D array of 32-bit integers\n",
        "array2 = np.array([6, 7, 8, 10, 13], dtype=np.int32)\n",
        "\n",
        "# use of itemsize to determine size of each array element of array1 and array2\n",
        "print(array1.itemsize)\n",
        "print(array2.itemsize)\n",
        ""
      ],
      "metadata": {
        "colab": {
          "base_uri": "https://localhost:8080/"
        },
        "id": "gmqt4L_vNhNV",
        "outputId": "e6f28c1d-bdbe-429f-9672-5c3bc855ce10"
      },
      "execution_count": 10,
      "outputs": [
        {
          "output_type": "stream",
          "name": "stdout",
          "text": [
            "8\n",
            "4\n"
          ]
        }
      ]
    },
    {
      "cell_type": "code",
      "source": [
        "array1 = np.array([6, 7, 8])\n",
        "array2 = np.array([[1, 2, 3],\n",
        "                   \t    [6, 7, 8]])\n",
        "\n",
        "# print memory address of array1's and array2's data\n",
        "print(\"\\nData of array1 is: \",array1.data)\n",
        "print(\"Data of array2 is: \",array2.data)"
      ],
      "metadata": {
        "colab": {
          "base_uri": "https://localhost:8080/"
        },
        "id": "UrAJsoN_Nhgu",
        "outputId": "582a9367-b882-4568-bea6-2b49a1e21d1b"
      },
      "execution_count": 11,
      "outputs": [
        {
          "output_type": "stream",
          "name": "stdout",
          "text": [
            "\n",
            "Data of array1 is:  <memory at 0x7a7cadb0dc00>\n",
            "Data of array2 is:  <memory at 0x7a7cadb8c040>\n"
          ]
        }
      ]
    },
    {
      "cell_type": "code",
      "source": [
        "array1 = np.array([1, 3, 5, 7, 9])\n",
        "\n",
        "# access numpy elements using index\n",
        "print(array1[0])\n",
        "print(array1[2])\n",
        "print(array1[4])"
      ],
      "metadata": {
        "colab": {
          "base_uri": "https://localhost:8080/"
        },
        "id": "yc7kwPFmNh4F",
        "outputId": "17369462-22be-4e2f-8abd-6b19c52ae0ef"
      },
      "execution_count": 12,
      "outputs": [
        {
          "output_type": "stream",
          "name": "stdout",
          "text": [
            "1\n",
            "5\n",
            "9\n"
          ]
        }
      ]
    },
    {
      "cell_type": "code",
      "source": [
        "array1[1]=10\n",
        "print(array1)\n",
        ""
      ],
      "metadata": {
        "colab": {
          "base_uri": "https://localhost:8080/"
        },
        "id": "luK9bTASNsbF",
        "outputId": "1eb782b8-bbe3-4659-fd34-f933044603cb"
      },
      "execution_count": 13,
      "outputs": [
        {
          "output_type": "stream",
          "name": "stdout",
          "text": [
            "[ 1 10  5  7  9]\n"
          ]
        }
      ]
    },
    {
      "cell_type": "code",
      "source": [
        "# create a 2D array\n",
        "array1 = np.array([[1, 3, 5, 7],\n",
        "                       [9, 11, 13, 15],\n",
        "                       [2, 4, 6, 8]])\n",
        "\n",
        "\n",
        "# access the element at the second row and fourth column\n",
        "element1 = array1[1, 3]  # returns 15\n",
        "print(\"4th Element at 2nd Row:\",element1)\n",
        "\n",
        "# access the element at the first row and second column\n",
        "element2 = array1[0, 1]  # returns 3\n",
        "print(\"2nd Element at First Row:\",element2)"
      ],
      "metadata": {
        "colab": {
          "base_uri": "https://localhost:8080/"
        },
        "id": "DT_UKfd1Nsyt",
        "outputId": "5f5f2782-26ba-46fb-a567-ffd68a7417b2"
      },
      "execution_count": 14,
      "outputs": [
        {
          "output_type": "stream",
          "name": "stdout",
          "text": [
            "4th Element at 2nd Row: 15\n",
            "2nd Element at First Row: 3\n"
          ]
        }
      ]
    },
    {
      "cell_type": "code",
      "source": [
        "array1 = np.array([1, 2, 3, 4, 5])\n",
        "\n",
        "# calculate the median\n",
        "median = np.median(array1)\n",
        "\n",
        "print(median)\n",
        ""
      ],
      "metadata": {
        "colab": {
          "base_uri": "https://localhost:8080/"
        },
        "id": "0D9dr__KNz71",
        "outputId": "49e0d529-2850-4614-92a7-491c49adc67e"
      },
      "execution_count": 15,
      "outputs": [
        {
          "output_type": "stream",
          "name": "stdout",
          "text": [
            "3.0\n"
          ]
        }
      ]
    },
    {
      "cell_type": "code",
      "source": [
        "marks = np.array([76, 78, 81, 66, 85])\n",
        "\n",
        "# compute the mean of marks\n",
        "mean_marks = np.mean(marks)\n",
        "\n",
        "print(mean_marks)\n",
        ""
      ],
      "metadata": {
        "colab": {
          "base_uri": "https://localhost:8080/"
        },
        "id": "DoEFbgWLN0Of",
        "outputId": "e83b00e2-841e-4617-e012-75d7541dc3cb"
      },
      "execution_count": 16,
      "outputs": [
        {
          "output_type": "stream",
          "name": "stdout",
          "text": [
            "77.2\n"
          ]
        }
      ]
    },
    {
      "cell_type": "code",
      "source": [
        "marks = np.array([76, 78, 81, 66, 85])\n",
        "\n",
        "# compute the standard deviation of marks\n",
        "std_marks = np.std(marks)\n",
        "print(std_marks)"
      ],
      "metadata": {
        "colab": {
          "base_uri": "https://localhost:8080/"
        },
        "id": "psoIfM5fOFiV",
        "outputId": "9895a50f-74cd-49f8-8e9f-cd4e8be17833"
      },
      "execution_count": 17,
      "outputs": [
        {
          "output_type": "stream",
          "name": "stdout",
          "text": [
            "6.368673331236263\n"
          ]
        }
      ]
    },
    {
      "cell_type": "code",
      "source": [
        "marks = np.array([76, 78, 81, 66, 85])\n",
        "\n",
        "# compute the standard deviation of marks\n",
        "std_marks = np.percentile(marks,50)\n",
        "print(std_marks)"
      ],
      "metadata": {
        "colab": {
          "base_uri": "https://localhost:8080/"
        },
        "id": "gkNCkiw2OF2w",
        "outputId": "abf4bcc5-da07-4bfb-eb62-04f01cdf79b3"
      },
      "execution_count": 18,
      "outputs": [
        {
          "output_type": "stream",
          "name": "stdout",
          "text": [
            "78.0\n"
          ]
        }
      ]
    },
    {
      "cell_type": "code",
      "source": [
        "marks = np.array([76, 78, 81, 66, 85])\n",
        "\n",
        "# compute the standard deviation of marks\n",
        "std_marks = np.min(marks)\n",
        "print(std_marks)"
      ],
      "metadata": {
        "colab": {
          "base_uri": "https://localhost:8080/"
        },
        "id": "ZnVp3aoAOGG1",
        "outputId": "68fb7e6e-419b-4135-cc59-d39e6311cb54"
      },
      "execution_count": 19,
      "outputs": [
        {
          "output_type": "stream",
          "name": "stdout",
          "text": [
            "66\n"
          ]
        }
      ]
    },
    {
      "cell_type": "code",
      "source": [
        "marks = np.array([76, 78, 81, 66, 85])\n",
        "\n",
        "# compute the standard deviation of marks\n",
        "std_marks = np.max(marks)\n",
        "print(std_marks)"
      ],
      "metadata": {
        "colab": {
          "base_uri": "https://localhost:8080/"
        },
        "id": "Qso69FgVOPbH",
        "outputId": "5a42efbd-e0b0-43a0-d5c9-e3249d72d577"
      },
      "execution_count": 20,
      "outputs": [
        {
          "output_type": "stream",
          "name": "stdout",
          "text": [
            "85\n"
          ]
        }
      ]
    }
  ]
}