{
  "nbformat": 4,
  "nbformat_minor": 0,
  "metadata": {
    "colab": {
      "provenance": [],
      "authorship_tag": "ABX9TyOprtc2b5Jx/5jN0kXO7cl3",
      "include_colab_link": true
    },
    "kernelspec": {
      "name": "python3",
      "display_name": "Python 3"
    },
    "language_info": {
      "name": "python"
    }
  },
  "cells": [
    {
      "cell_type": "markdown",
      "metadata": {
        "id": "view-in-github",
        "colab_type": "text"
      },
      "source": [
        "<a href=\"https://colab.research.google.com/github/Thanuja301/ML_23AG1A66J0/blob/main/DATA_PROCESSING.ipynb\" target=\"_parent\"><img src=\"https://colab.research.google.com/assets/colab-badge.svg\" alt=\"Open In Colab\"/></a>"
      ]
    },
    {
      "cell_type": "code",
      "execution_count": 3,
      "metadata": {
        "id": "qpxX45PLK-GD"
      },
      "outputs": [],
      "source": [
        "import pandas as pd\n",
        "df = pd.read_csv('/content/dataprocessing.csv')\n"
      ]
    },
    {
      "cell_type": "code",
      "source": [
        "df.head()"
      ],
      "metadata": {
        "colab": {
          "base_uri": "https://localhost:8080/",
          "height": 206
        },
        "id": "eggRESCeLxny",
        "outputId": "5428e7c1-798f-4630-8342-fedcf742cf04"
      },
      "execution_count": 4,
      "outputs": [
        {
          "output_type": "execute_result",
          "data": {
            "text/plain": [
              "    Name   Age Gender  Marks      City\n",
              "0  Alice  18.0      F   85.0    London\n",
              "1    Bob   NaN      M   90.0  New York\n",
              "2  Cathy  19.0      F   95.0       NaN\n",
              "3  David  17.0      M   72.0    Sydney\n",
              "4    Eva  18.0      F    NaN    London"
            ],
            "text/html": [
              "\n",
              "  <div id=\"df-68e689a2-49fa-44a4-bea7-928c7fd66afd\" class=\"colab-df-container\">\n",
              "    <div>\n",
              "<style scoped>\n",
              "    .dataframe tbody tr th:only-of-type {\n",
              "        vertical-align: middle;\n",
              "    }\n",
              "\n",
              "    .dataframe tbody tr th {\n",
              "        vertical-align: top;\n",
              "    }\n",
              "\n",
              "    .dataframe thead th {\n",
              "        text-align: right;\n",
              "    }\n",
              "</style>\n",
              "<table border=\"1\" class=\"dataframe\">\n",
              "  <thead>\n",
              "    <tr style=\"text-align: right;\">\n",
              "      <th></th>\n",
              "      <th>Name</th>\n",
              "      <th>Age</th>\n",
              "      <th>Gender</th>\n",
              "      <th>Marks</th>\n",
              "      <th>City</th>\n",
              "    </tr>\n",
              "  </thead>\n",
              "  <tbody>\n",
              "    <tr>\n",
              "      <th>0</th>\n",
              "      <td>Alice</td>\n",
              "      <td>18.0</td>\n",
              "      <td>F</td>\n",
              "      <td>85.0</td>\n",
              "      <td>London</td>\n",
              "    </tr>\n",
              "    <tr>\n",
              "      <th>1</th>\n",
              "      <td>Bob</td>\n",
              "      <td>NaN</td>\n",
              "      <td>M</td>\n",
              "      <td>90.0</td>\n",
              "      <td>New York</td>\n",
              "    </tr>\n",
              "    <tr>\n",
              "      <th>2</th>\n",
              "      <td>Cathy</td>\n",
              "      <td>19.0</td>\n",
              "      <td>F</td>\n",
              "      <td>95.0</td>\n",
              "      <td>NaN</td>\n",
              "    </tr>\n",
              "    <tr>\n",
              "      <th>3</th>\n",
              "      <td>David</td>\n",
              "      <td>17.0</td>\n",
              "      <td>M</td>\n",
              "      <td>72.0</td>\n",
              "      <td>Sydney</td>\n",
              "    </tr>\n",
              "    <tr>\n",
              "      <th>4</th>\n",
              "      <td>Eva</td>\n",
              "      <td>18.0</td>\n",
              "      <td>F</td>\n",
              "      <td>NaN</td>\n",
              "      <td>London</td>\n",
              "    </tr>\n",
              "  </tbody>\n",
              "</table>\n",
              "</div>\n",
              "    <div class=\"colab-df-buttons\">\n",
              "\n",
              "  <div class=\"colab-df-container\">\n",
              "    <button class=\"colab-df-convert\" onclick=\"convertToInteractive('df-68e689a2-49fa-44a4-bea7-928c7fd66afd')\"\n",
              "            title=\"Convert this dataframe to an interactive table.\"\n",
              "            style=\"display:none;\">\n",
              "\n",
              "  <svg xmlns=\"http://www.w3.org/2000/svg\" height=\"24px\" viewBox=\"0 -960 960 960\">\n",
              "    <path d=\"M120-120v-720h720v720H120Zm60-500h600v-160H180v160Zm220 220h160v-160H400v160Zm0 220h160v-160H400v160ZM180-400h160v-160H180v160Zm440 0h160v-160H620v160ZM180-180h160v-160H180v160Zm440 0h160v-160H620v160Z\"/>\n",
              "  </svg>\n",
              "    </button>\n",
              "\n",
              "  <style>\n",
              "    .colab-df-container {\n",
              "      display:flex;\n",
              "      gap: 12px;\n",
              "    }\n",
              "\n",
              "    .colab-df-convert {\n",
              "      background-color: #E8F0FE;\n",
              "      border: none;\n",
              "      border-radius: 50%;\n",
              "      cursor: pointer;\n",
              "      display: none;\n",
              "      fill: #1967D2;\n",
              "      height: 32px;\n",
              "      padding: 0 0 0 0;\n",
              "      width: 32px;\n",
              "    }\n",
              "\n",
              "    .colab-df-convert:hover {\n",
              "      background-color: #E2EBFA;\n",
              "      box-shadow: 0px 1px 2px rgba(60, 64, 67, 0.3), 0px 1px 3px 1px rgba(60, 64, 67, 0.15);\n",
              "      fill: #174EA6;\n",
              "    }\n",
              "\n",
              "    .colab-df-buttons div {\n",
              "      margin-bottom: 4px;\n",
              "    }\n",
              "\n",
              "    [theme=dark] .colab-df-convert {\n",
              "      background-color: #3B4455;\n",
              "      fill: #D2E3FC;\n",
              "    }\n",
              "\n",
              "    [theme=dark] .colab-df-convert:hover {\n",
              "      background-color: #434B5C;\n",
              "      box-shadow: 0px 1px 3px 1px rgba(0, 0, 0, 0.15);\n",
              "      filter: drop-shadow(0px 1px 2px rgba(0, 0, 0, 0.3));\n",
              "      fill: #FFFFFF;\n",
              "    }\n",
              "  </style>\n",
              "\n",
              "    <script>\n",
              "      const buttonEl =\n",
              "        document.querySelector('#df-68e689a2-49fa-44a4-bea7-928c7fd66afd button.colab-df-convert');\n",
              "      buttonEl.style.display =\n",
              "        google.colab.kernel.accessAllowed ? 'block' : 'none';\n",
              "\n",
              "      async function convertToInteractive(key) {\n",
              "        const element = document.querySelector('#df-68e689a2-49fa-44a4-bea7-928c7fd66afd');\n",
              "        const dataTable =\n",
              "          await google.colab.kernel.invokeFunction('convertToInteractive',\n",
              "                                                    [key], {});\n",
              "        if (!dataTable) return;\n",
              "\n",
              "        const docLinkHtml = 'Like what you see? Visit the ' +\n",
              "          '<a target=\"_blank\" href=https://colab.research.google.com/notebooks/data_table.ipynb>data table notebook</a>'\n",
              "          + ' to learn more about interactive tables.';\n",
              "        element.innerHTML = '';\n",
              "        dataTable['output_type'] = 'display_data';\n",
              "        await google.colab.output.renderOutput(dataTable, element);\n",
              "        const docLink = document.createElement('div');\n",
              "        docLink.innerHTML = docLinkHtml;\n",
              "        element.appendChild(docLink);\n",
              "      }\n",
              "    </script>\n",
              "  </div>\n",
              "\n",
              "\n",
              "    <div id=\"df-6cfa3b90-985e-4cdf-81c2-6db7cf8d0f37\">\n",
              "      <button class=\"colab-df-quickchart\" onclick=\"quickchart('df-6cfa3b90-985e-4cdf-81c2-6db7cf8d0f37')\"\n",
              "                title=\"Suggest charts\"\n",
              "                style=\"display:none;\">\n",
              "\n",
              "<svg xmlns=\"http://www.w3.org/2000/svg\" height=\"24px\"viewBox=\"0 0 24 24\"\n",
              "     width=\"24px\">\n",
              "    <g>\n",
              "        <path d=\"M19 3H5c-1.1 0-2 .9-2 2v14c0 1.1.9 2 2 2h14c1.1 0 2-.9 2-2V5c0-1.1-.9-2-2-2zM9 17H7v-7h2v7zm4 0h-2V7h2v10zm4 0h-2v-4h2v4z\"/>\n",
              "    </g>\n",
              "</svg>\n",
              "      </button>\n",
              "\n",
              "<style>\n",
              "  .colab-df-quickchart {\n",
              "      --bg-color: #E8F0FE;\n",
              "      --fill-color: #1967D2;\n",
              "      --hover-bg-color: #E2EBFA;\n",
              "      --hover-fill-color: #174EA6;\n",
              "      --disabled-fill-color: #AAA;\n",
              "      --disabled-bg-color: #DDD;\n",
              "  }\n",
              "\n",
              "  [theme=dark] .colab-df-quickchart {\n",
              "      --bg-color: #3B4455;\n",
              "      --fill-color: #D2E3FC;\n",
              "      --hover-bg-color: #434B5C;\n",
              "      --hover-fill-color: #FFFFFF;\n",
              "      --disabled-bg-color: #3B4455;\n",
              "      --disabled-fill-color: #666;\n",
              "  }\n",
              "\n",
              "  .colab-df-quickchart {\n",
              "    background-color: var(--bg-color);\n",
              "    border: none;\n",
              "    border-radius: 50%;\n",
              "    cursor: pointer;\n",
              "    display: none;\n",
              "    fill: var(--fill-color);\n",
              "    height: 32px;\n",
              "    padding: 0;\n",
              "    width: 32px;\n",
              "  }\n",
              "\n",
              "  .colab-df-quickchart:hover {\n",
              "    background-color: var(--hover-bg-color);\n",
              "    box-shadow: 0 1px 2px rgba(60, 64, 67, 0.3), 0 1px 3px 1px rgba(60, 64, 67, 0.15);\n",
              "    fill: var(--button-hover-fill-color);\n",
              "  }\n",
              "\n",
              "  .colab-df-quickchart-complete:disabled,\n",
              "  .colab-df-quickchart-complete:disabled:hover {\n",
              "    background-color: var(--disabled-bg-color);\n",
              "    fill: var(--disabled-fill-color);\n",
              "    box-shadow: none;\n",
              "  }\n",
              "\n",
              "  .colab-df-spinner {\n",
              "    border: 2px solid var(--fill-color);\n",
              "    border-color: transparent;\n",
              "    border-bottom-color: var(--fill-color);\n",
              "    animation:\n",
              "      spin 1s steps(1) infinite;\n",
              "  }\n",
              "\n",
              "  @keyframes spin {\n",
              "    0% {\n",
              "      border-color: transparent;\n",
              "      border-bottom-color: var(--fill-color);\n",
              "      border-left-color: var(--fill-color);\n",
              "    }\n",
              "    20% {\n",
              "      border-color: transparent;\n",
              "      border-left-color: var(--fill-color);\n",
              "      border-top-color: var(--fill-color);\n",
              "    }\n",
              "    30% {\n",
              "      border-color: transparent;\n",
              "      border-left-color: var(--fill-color);\n",
              "      border-top-color: var(--fill-color);\n",
              "      border-right-color: var(--fill-color);\n",
              "    }\n",
              "    40% {\n",
              "      border-color: transparent;\n",
              "      border-right-color: var(--fill-color);\n",
              "      border-top-color: var(--fill-color);\n",
              "    }\n",
              "    60% {\n",
              "      border-color: transparent;\n",
              "      border-right-color: var(--fill-color);\n",
              "    }\n",
              "    80% {\n",
              "      border-color: transparent;\n",
              "      border-right-color: var(--fill-color);\n",
              "      border-bottom-color: var(--fill-color);\n",
              "    }\n",
              "    90% {\n",
              "      border-color: transparent;\n",
              "      border-bottom-color: var(--fill-color);\n",
              "    }\n",
              "  }\n",
              "</style>\n",
              "\n",
              "      <script>\n",
              "        async function quickchart(key) {\n",
              "          const quickchartButtonEl =\n",
              "            document.querySelector('#' + key + ' button');\n",
              "          quickchartButtonEl.disabled = true;  // To prevent multiple clicks.\n",
              "          quickchartButtonEl.classList.add('colab-df-spinner');\n",
              "          try {\n",
              "            const charts = await google.colab.kernel.invokeFunction(\n",
              "                'suggestCharts', [key], {});\n",
              "          } catch (error) {\n",
              "            console.error('Error during call to suggestCharts:', error);\n",
              "          }\n",
              "          quickchartButtonEl.classList.remove('colab-df-spinner');\n",
              "          quickchartButtonEl.classList.add('colab-df-quickchart-complete');\n",
              "        }\n",
              "        (() => {\n",
              "          let quickchartButtonEl =\n",
              "            document.querySelector('#df-6cfa3b90-985e-4cdf-81c2-6db7cf8d0f37 button');\n",
              "          quickchartButtonEl.style.display =\n",
              "            google.colab.kernel.accessAllowed ? 'block' : 'none';\n",
              "        })();\n",
              "      </script>\n",
              "    </div>\n",
              "\n",
              "    </div>\n",
              "  </div>\n"
            ],
            "application/vnd.google.colaboratory.intrinsic+json": {
              "type": "dataframe",
              "variable_name": "df",
              "summary": "{\n  \"name\": \"df\",\n  \"rows\": 5,\n  \"fields\": [\n    {\n      \"column\": \"Name\",\n      \"properties\": {\n        \"dtype\": \"string\",\n        \"num_unique_values\": 5,\n        \"samples\": [\n          \"Bob\",\n          \"Eva\",\n          \"Cathy\"\n        ],\n        \"semantic_type\": \"\",\n        \"description\": \"\"\n      }\n    },\n    {\n      \"column\": \"Age\",\n      \"properties\": {\n        \"dtype\": \"number\",\n        \"std\": 0.816496580927726,\n        \"min\": 17.0,\n        \"max\": 19.0,\n        \"num_unique_values\": 3,\n        \"samples\": [\n          18.0,\n          19.0,\n          17.0\n        ],\n        \"semantic_type\": \"\",\n        \"description\": \"\"\n      }\n    },\n    {\n      \"column\": \"Gender\",\n      \"properties\": {\n        \"dtype\": \"category\",\n        \"num_unique_values\": 2,\n        \"samples\": [\n          \"M\",\n          \"F\"\n        ],\n        \"semantic_type\": \"\",\n        \"description\": \"\"\n      }\n    },\n    {\n      \"column\": \"Marks\",\n      \"properties\": {\n        \"dtype\": \"number\",\n        \"std\": 9.882644720249063,\n        \"min\": 72.0,\n        \"max\": 95.0,\n        \"num_unique_values\": 4,\n        \"samples\": [\n          90.0,\n          72.0\n        ],\n        \"semantic_type\": \"\",\n        \"description\": \"\"\n      }\n    },\n    {\n      \"column\": \"City\",\n      \"properties\": {\n        \"dtype\": \"string\",\n        \"num_unique_values\": 3,\n        \"samples\": [\n          \"London\",\n          \"New York\"\n        ],\n        \"semantic_type\": \"\",\n        \"description\": \"\"\n      }\n    }\n  ]\n}"
            }
          },
          "metadata": {},
          "execution_count": 4
        }
      ]
    },
    {
      "cell_type": "markdown",
      "source": [
        "**Handling Missing Values**\n",
        "Missing values are filled using fillna function\n"
      ],
      "metadata": {
        "id": "c14DeG-Ba9-7"
      }
    },
    {
      "cell_type": "code",
      "source": [
        "df.fillna({\n",
        "    'Age': df['Age'].mean()\n",
        "}) # Removed inplace=True\n",
        "print(df)"
      ],
      "metadata": {
        "colab": {
          "base_uri": "https://localhost:8080/"
        },
        "id": "9tuQMPgRbrQZ",
        "outputId": "150e173e-8416-4f81-e4d1-969f844a914b"
      },
      "execution_count": 5,
      "outputs": [
        {
          "output_type": "stream",
          "name": "stdout",
          "text": [
            "    Name   Age Gender  Marks      City\n",
            "0  Alice  18.0      F   85.0    London\n",
            "1    Bob   NaN      M   90.0  New York\n",
            "2  Cathy  19.0      F   95.0       NaN\n",
            "3  David  17.0      M   72.0    Sydney\n",
            "4    Eva  18.0      F    NaN    London\n"
          ]
        }
      ]
    },
    {
      "cell_type": "code",
      "source": [
        "df_dict={\n",
        "    'Name': ['Alice','Bob','Alice'],\n",
        "    'Age' : [18,18,18],\n",
        "    'Gender' : ['F','M','F'],\n",
        "    'Marks' : [85,90,85]\n",
        "}\n",
        "df1 = pd.DataFrame(df_dict)\n",
        "print(\"Original data\")\n",
        "print(df1)\n",
        "\n",
        "df1_no_duplicates = df1.drop_duplicates()\n",
        "print(\"\\nData after removing duplicates\")\n",
        "print(df1_no_duplicates)"
      ],
      "metadata": {
        "colab": {
          "base_uri": "https://localhost:8080/"
        },
        "id": "FuvBW1QJexmy",
        "outputId": "7956ee35-4a40-4095-e818-0fe07200caf1"
      },
      "execution_count": 6,
      "outputs": [
        {
          "output_type": "stream",
          "name": "stdout",
          "text": [
            "Original data\n",
            "    Name  Age Gender  Marks\n",
            "0  Alice   18      F     85\n",
            "1    Bob   18      M     90\n",
            "2  Alice   18      F     85\n",
            "\n",
            "Data after removing duplicates\n",
            "    Name  Age Gender  Marks\n",
            "0  Alice   18      F     85\n",
            "1    Bob   18      M     90\n"
          ]
        }
      ]
    },
    {
      "cell_type": "code",
      "source": [
        "import pandas as pd\n",
        "df = pd.DataFrame({\n",
        "    'Name': ['Arjun', 'Sam'],\n",
        "    'Age': ['25', '30'],\n",
        "    'Salary'  : ['50000', '60000']\n",
        "})\n",
        "print(df.dtypes)"
      ],
      "metadata": {
        "colab": {
          "base_uri": "https://localhost:8080/"
        },
        "id": "7BJ-rBZaYKKP",
        "outputId": "4524b29f-a5ee-48e6-c875-aa94378f332a"
      },
      "execution_count": 7,
      "outputs": [
        {
          "output_type": "stream",
          "name": "stdout",
          "text": [
            "Name      object\n",
            "Age       object\n",
            "Salary    object\n",
            "dtype: object\n"
          ]
        }
      ]
    },
    {
      "cell_type": "code",
      "source": [
        "df['Age'] = df['Age'].astype(int)\n",
        "df['Salary'] = df['Salary'].astype(float)\n",
        "print(df.dtypes)"
      ],
      "metadata": {
        "colab": {
          "base_uri": "https://localhost:8080/"
        },
        "id": "FzL30_JEYKhg",
        "outputId": "d155a0bd-cc66-426e-8bbe-95a62c7782d7"
      },
      "execution_count": 8,
      "outputs": [
        {
          "output_type": "stream",
          "name": "stdout",
          "text": [
            "Name       object\n",
            "Age         int64\n",
            "Salary    float64\n",
            "dtype: object\n"
          ]
        }
      ]
    },
    {
      "cell_type": "markdown",
      "source": [
        "for converting into data type use astype()"
      ],
      "metadata": {
        "id": "hWqtF1C2atm1"
      }
    },
    {
      "cell_type": "markdown",
      "source": [
        "for handling errors use pd.to_numeric()\n",
        "nd set errors as \"NaN\""
      ],
      "metadata": {
        "id": "M2VuMPX7cqe7"
      }
    },
    {
      "cell_type": "code",
      "source": [
        "df['Age'] = pd.to_numeric(df['Age'], errors='coerce')\n",
        "df['Salary'] = pd.to_numeric(df['Salary'], errors='coerce')\n",
        "print(df.dtypes)"
      ],
      "metadata": {
        "colab": {
          "base_uri": "https://localhost:8080/"
        },
        "id": "2CFsIe_daGAF",
        "outputId": "fc08c238-83a5-43ec-9a25-1cb3a3b4242f"
      },
      "execution_count": 9,
      "outputs": [
        {
          "output_type": "stream",
          "name": "stdout",
          "text": [
            "Name       object\n",
            "Age         int64\n",
            "Salary    float64\n",
            "dtype: object\n"
          ]
        }
      ]
    },
    {
      "cell_type": "markdown",
      "source": [
        "convert text categories into number for analysis"
      ],
      "metadata": {
        "id": "6FC7UlVId4OV"
      }
    },
    {
      "cell_type": "code",
      "source": [
        "df1['Gender'] = df1['Gender'].map({'M': 1, 'F': 0})\n",
        "print(df1)"
      ],
      "metadata": {
        "colab": {
          "base_uri": "https://localhost:8080/"
        },
        "id": "v7XEeAdAdDCA",
        "outputId": "e0c29027-12f6-41fa-ac0b-f7a55be6ad26"
      },
      "execution_count": 10,
      "outputs": [
        {
          "output_type": "stream",
          "name": "stdout",
          "text": [
            "    Name  Age  Gender  Marks\n",
            "0  Alice   18       0     85\n",
            "1    Bob   18       1     90\n",
            "2  Alice   18       0     85\n"
          ]
        }
      ]
    },
    {
      "cell_type": "markdown",
      "source": [
        "Use one-hot encoding fr city\n",
        "pd.get_dummies()"
      ],
      "metadata": {
        "id": "VPps41MjkkUG"
      }
    },
    {
      "cell_type": "code",
      "source": [
        "df_original = pd.read_csv('/content/dataprocessing.csv')\n",
        "df_encoded = pd.get_dummies(df_original, columns=['City'], dummy_na=False)\n",
        "print(df_encoded)"
      ],
      "metadata": {
        "id": "KFKWXruYdDj3",
        "colab": {
          "base_uri": "https://localhost:8080/"
        },
        "outputId": "4b8020aa-7723-48c6-9de6-bb14bd1ded1f"
      },
      "execution_count": 11,
      "outputs": [
        {
          "output_type": "stream",
          "name": "stdout",
          "text": [
            "    Name   Age Gender  Marks  City_London  City_New York  City_Sydney\n",
            "0  Alice  18.0      F   85.0         True          False        False\n",
            "1    Bob   NaN      M   90.0        False           True        False\n",
            "2  Cathy  19.0      F   95.0        False          False        False\n",
            "3  David  17.0      M   72.0        False          False         True\n",
            "4    Eva  18.0      F    NaN         True          False        False\n"
          ]
        }
      ]
    },
    {
      "cell_type": "code",
      "source": [
        "from sklearn.preprocessing import MinMaxScaler\n",
        "scaler = MinMaxScaler()\n",
        "df_encoded['Marks'] = scaler.fit_transform(df_encoded[['Marks']])\n",
        "print(df_encoded)"
      ],
      "metadata": {
        "id": "bPmxFzksdEMk",
        "colab": {
          "base_uri": "https://localhost:8080/"
        },
        "outputId": "08266c26-73d1-4f94-a155-b87261871eb7"
      },
      "execution_count": 12,
      "outputs": [
        {
          "output_type": "stream",
          "name": "stdout",
          "text": [
            "    Name   Age Gender     Marks  City_London  City_New York  City_Sydney\n",
            "0  Alice  18.0      F  0.565217         True          False        False\n",
            "1    Bob   NaN      M  0.782609        False           True        False\n",
            "2  Cathy  19.0      F  1.000000        False          False        False\n",
            "3  David  17.0      M  0.000000        False          False         True\n",
            "4    Eva  18.0      F       NaN         True          False        False\n"
          ]
        }
      ]
    },
    {
      "cell_type": "markdown",
      "source": [
        "Feature Scaling-  Brings all numeric data to same scale\n",
        "\n",
        "\n",
        "---\n",
        "\n"
      ],
      "metadata": {
        "id": "a5WXfkuBQMU3"
      }
    },
    {
      "cell_type": "code",
      "source": [
        "import pandas as pd\n",
        "df = {\n",
        "    'Name': ['Alice', 'Bob', 'Cathy','David'],\n",
        "    'Age': [18,20,22,19],\n",
        "    'Gender': ['F','M','F','M'],\n",
        "    'Marks': [85,90,88,92]\n",
        "}\n",
        "df = pd.DataFrame(df)\n",
        "print(df)\n",
        "\n"
      ],
      "metadata": {
        "colab": {
          "base_uri": "https://localhost:8080/"
        },
        "id": "Ql1EKAOXROcG",
        "outputId": "31783d5e-bf18-4d93-e7d2-358cc52fc241"
      },
      "execution_count": 15,
      "outputs": [
        {
          "output_type": "stream",
          "name": "stdout",
          "text": [
            "    Name  Age Gender  Marks\n",
            "0  Alice   18      F     85\n",
            "1    Bob   20      M     90\n",
            "2  Cathy   22      F     88\n",
            "3  David   19      M     92\n"
          ]
        }
      ]
    },
    {
      "cell_type": "markdown",
      "source": [
        "creating new features"
      ],
      "metadata": {
        "id": "--o1gnzxVbPT"
      }
    },
    {
      "cell_type": "code",
      "source": [
        "def grade(marks):\n",
        "  if marks >= 85 :\n",
        "    return 'A'\n",
        "  elif marks >= 70:\n",
        "    return 'B'\n",
        "  elif marks >= 50:\n",
        "    return 'C'\n",
        "  else:\n",
        "    return 'F'\n",
        "df['Grade'] = df['Marks'].apply(grade)\n",
        "print(df)"
      ],
      "metadata": {
        "colab": {
          "base_uri": "https://localhost:8080/"
        },
        "id": "AGaz9QT9VV_W",
        "outputId": "e648b0f7-d71c-4ae3-c399-b54dfdf51ee3"
      },
      "execution_count": 16,
      "outputs": [
        {
          "output_type": "stream",
          "name": "stdout",
          "text": [
            "    Name  Age Gender  Marks Grade\n",
            "0  Alice   18      F     85     A\n",
            "1    Bob   20      M     90     A\n",
            "2  Cathy   22      F     88     A\n",
            "3  David   19      M     92     A\n"
          ]
        }
      ]
    },
    {
      "cell_type": "markdown",
      "source": [],
      "metadata": {
        "id": "Ih3DzDGhVVUK"
      }
    },
    {
      "cell_type": "code",
      "source": [
        "bins =[0,18,21,100]\n",
        "labels =['Teen','Young','Adult']\n",
        "df['Age_Group'] = pd.cut(df['Age'], bins=bins, labels=labels, right=False)"
      ],
      "metadata": {
        "id": "8H9kst8HYj9p"
      },
      "execution_count": 19,
      "outputs": []
    },
    {
      "cell_type": "code",
      "source": [
        "df = df[(df['Marks']>=60) & (df['Marks']<=100)]\n",
        "print(df)"
      ],
      "metadata": {
        "colab": {
          "base_uri": "https://localhost:8080/"
        },
        "id": "KVhDRbzKcLb1",
        "outputId": "d4fa818d-3bfd-4e04-c05a-1b67c6b5ee45"
      },
      "execution_count": 18,
      "outputs": [
        {
          "output_type": "stream",
          "name": "stdout",
          "text": [
            "    Name  Age Gender  Marks Grade\n",
            "0  Alice   18      F     85     A\n",
            "1    Bob   20      M     90     A\n",
            "2  Cathy   22      F     88     A\n",
            "3  David   19      M     92     A\n"
          ]
        }
      ]
    },
    {
      "cell_type": "code",
      "source": [],
      "metadata": {
        "id": "KKYsH5dlcMnZ"
      },
      "execution_count": null,
      "outputs": []
    }
  ]
}